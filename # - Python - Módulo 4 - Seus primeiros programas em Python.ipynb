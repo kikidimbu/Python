{
 "cells": [
  {
   "cell_type": "markdown",
   "id": "cc9b5509",
   "metadata": {},
   "source": [
    "# Meu primeiro programa"
   ]
  },
  {
   "cell_type": "code",
   "execution_count": 2,
   "id": "3552022a",
   "metadata": {},
   "outputs": [
    {
     "name": "stdout",
     "output_type": "stream",
     "text": [
      "123\n"
     ]
    }
   ],
   "source": [
    "print (123)"
   ]
  },
  {
   "cell_type": "code",
   "execution_count": 5,
   "id": "d5aea1d0",
   "metadata": {},
   "outputs": [
    {
     "name": "stdout",
     "output_type": "stream",
     "text": [
      "texto com aspas\n"
     ]
    }
   ],
   "source": [
    "print('texto com aspas')"
   ]
  },
  {
   "cell_type": "code",
   "execution_count": 4,
   "id": "b80a7f8b",
   "metadata": {},
   "outputs": [
    {
     "ename": "SyntaxError",
     "evalue": "invalid syntax (258198761.py, line 1)",
     "output_type": "error",
     "traceback": [
      "\u001b[1;36m  File \u001b[1;32m\"C:\\Users\\jaqdi\\AppData\\Local\\Temp\\ipykernel_14552\\258198761.py\"\u001b[1;36m, line \u001b[1;32m1\u001b[0m\n\u001b[1;33m    print(texto sem aspas)\u001b[0m\n\u001b[1;37m                ^\u001b[0m\n\u001b[1;31mSyntaxError\u001b[0m\u001b[1;31m:\u001b[0m invalid syntax\n"
     ]
    }
   ],
   "source": [
    "print(texto sem aspas)"
   ]
  },
  {
   "cell_type": "code",
   "execution_count": null,
   "id": "f7ecc0b5",
   "metadata": {},
   "outputs": [],
   "source": []
  }
 ],
 "metadata": {
  "kernelspec": {
   "display_name": "Python 3 (ipykernel)",
   "language": "python",
   "name": "python3"
  },
  "language_info": {
   "codemirror_mode": {
    "name": "ipython",
    "version": 3
   },
   "file_extension": ".py",
   "mimetype": "text/x-python",
   "name": "python",
   "nbconvert_exporter": "python",
   "pygments_lexer": "ipython3",
   "version": "3.9.13"
  }
 },
 "nbformat": 4,
 "nbformat_minor": 5
}
