{
  "nbformat": 4,
  "nbformat_minor": 0,
  "metadata": {
    "colab": {
      "provenance": []
    },
    "kernelspec": {
      "name": "python3",
      "display_name": "Python 3"
    },
    "language_info": {
      "name": "python"
    }
  },
  "cells": [
    {
      "cell_type": "markdown",
      "source": [
        "# Para que serve Programação?"
      ],
      "metadata": {
        "id": "4LmWBj_-LS1s"
      }
    },
    {
      "cell_type": "markdown",
      "source": [
        "- Para \"mandar\" o computador fazer alguma coisa (basicamente qualquer coisa)\n",
        "- Criar Programas, Ferramentas e Sites para serem usados."
      ],
      "metadata": {
        "id": "MWVXfUZLLfwF"
      }
    },
    {
      "cell_type": "markdown",
      "source": [
        "## Para que serve o Python?"
      ],
      "metadata": {
        "id": "ov0sCBbHLTWu"
      }
    },
    {
      "cell_type": "markdown",
      "source": [
        "- É uma linguagem de programação (uma das + usadas e que + cresce)\n",
        "- É \"uma línga\" que o computador entende. Você digita o comando e o computador obedece.\n",
        "- O que precisamos aprender é: quais os comandos o computador entende e como criar uma série de comandos que vai resolver o nosso desafio.\n",
        "- Vamos ver isso melhor na próxima aula"
      ],
      "metadata": {
        "id": "YAhgoJKhK5Rw"
      }
    },
    {
      "cell_type": "markdown",
      "source": [
        "# O que é Lógica de Programação?"
      ],
      "metadata": {
        "id": "Ork-2HYzK3Xb"
      }
    },
    {
      "cell_type": "markdown",
      "source": [
        "Qual é a sequência de ações que você tem que fazer para resolver o seu desafio?\n",
        "\n",
        "É como seguir uma receita de bolo, que tem os ingredientes, o modo de preparo, tempo de preparo e rendimento. \n",
        "- É a sequência de comandos que você vai escrever (programar) para fazer o que você quer."
      ],
      "metadata": {
        "id": "GQblMuq-LuD8"
      }
    },
    {
      "cell_type": "markdown",
      "source": [
        "### Cuidado!"
      ],
      "metadata": {
        "id": "VLxlEvFvLt3z"
      }
    },
    {
      "cell_type": "markdown",
      "source": [
        "Atrás do rótulo do shampoo tem um passo a passo de como utilizá-lo:\n",
        "1. Aplique no cabelo molhado\n",
        "2. Massageie o couro cabeludo\n",
        "3. Enxague\n",
        "4. Repita\n",
        "\n",
        "Se essa fosse uma sequência de ações a serem programadas, poderíamos estar escrevendo um loop eterno, pois ele sempre, chegará ao ponto 4 e repetirá os passos de 1 a 4, e quando chegar ao ponto 4 novamente, repetirá os passos de 1 a 4 e assim num repetição infinita."
      ],
      "metadata": {
        "id": "ct_0hnBJLq2s"
      }
    },
    {
      "cell_type": "markdown",
      "source": [
        "- Vamos aprender todos os macetes (como esse do loop eterno e outros mais) e conhecimentos necessário no decorrer do curso.\n",
        "- Mas na próxima aula vamos dar uma introdução que pode te ajudar."
      ],
      "metadata": {
        "id": "a1voMs11N9Hi"
      }
    },
    {
      "cell_type": "markdown",
      "source": [
        "# Tudo o que você precisa saber sobre linguagem de programação"
      ],
      "metadata": {
        "id": "WXJqqX2ORdGf"
      }
    },
    {
      "cell_type": "markdown",
      "source": [
        "- A lógica de programação é uma sequência de comandos que vamos escrever para executar o que queremos (resolver um desafio).\n",
        "- Aprender apenas Lógica de Programação é super teórico e zero complicado.\n",
        "- O curso foi pensado em aplicar a lógica de programação junto ao ensino da linguagem para facilitar a aprendizagem e obter maior aplicabilidade para o aluno.\n",
        "\n",
        "De qualquer forma, vamos dar algumas orientações gerais sobre Lógica de Programação:\n",
        "\n",
        "1. Programas são códigos (uma sequência de códigos) que falam o que o computador tem que fazer;\n",
        "2. Se você não falar, o computador não vai te entender (exemplo da receita)\n",
        "\n"
      ],
      "metadata": {
        "id": "FBd5W5UlOYi9"
      }
    },
    {
      "cell_type": "markdown",
      "source": [
        "O computador não vai conseguir entender o que é bater as claras em neve. Com ele temos que ser muito específicos (utilizando do exemplo de bater a clara em neve):\n",
        "\n",
        "- 2.1 Pegue duas tigelas;\n",
        "- 2.2 Uma será chamada tigela 1 e a outra será chamada tigela 2;\n",
        "- 2.3 Pegue um ovo;\n",
        "- 2.4 Quebre o ovo separando com os dedos clara e gema;\n",
        "- 2.5 Coloque a gema na tigela 2;\n",
        "- 2.6 Coloque a clara na tigela 1;\n",
        "- 2.7 Pegue um fué e bata a clara que está na tigela 1 até que forma uma massa muito leve e homogênea;\n",
        "- 2.8 Teste a clara em neve levantando o fué;\n",
        "- 2.8.1 Se a clara em neve cair, repetir os passos 2.7 e 2.8;\n",
        "- 2.8.2 Se a clara em neve não cair, reservar."
      ],
      "metadata": {
        "id": "NRrsxObMS1RG"
      }
    },
    {
      "cell_type": "markdown",
      "source": [
        "Retomando nossa revisão:\n",
        "\n",
        "1. Programas são códigos (uma sequência de códigos) que falam o que o computador tem que fazer;\n",
        "2. Se você não falar, o computador não vai te entender (exemplo da receita);\n",
        "3. Se você falar, o computador vai fazer exatamente o que você falar (exemplo do shampoo);\n",
        "4. As instruções são dadas em linhas e cada linha é uma instrução ( o que significa que cada linha faz alguma coisa) - como no exemplo abaixo:"
      ],
      "metadata": {
        "id": "u_rOeXT3OYao"
      }
    },
    {
      "cell_type": "code",
      "execution_count": 1,
      "metadata": {
        "id": "Qiv7fyfAZe4Y",
        "colab": {
          "base_uri": "https://localhost:8080/"
        },
        "outputId": "5dd21125-562d-4a4e-c680-be3338c5336d"
      },
      "outputs": [
        {
          "output_type": "stream",
          "name": "stdout",
          "text": [
            "195.0\n"
          ]
        }
      ],
      "source": [
        "qtde_pepsi = 130\n",
        "preco_pepsi = 1.50\n",
        "print (qtde_pepsi * preco_pepsi)"
      ]
    },
    {
      "cell_type": "markdown",
      "source": [
        "5. As linhas de código serão sempre lidas de cima para baixo;\n",
        "6. Erros vão parar o seu código e te avisar o que está errado:\n"
      ],
      "metadata": {
        "id": "58iYKSJsOXr_"
      }
    },
    {
      "cell_type": "code",
      "source": [
        "qtde_pepsi = 130\n",
        "preco_pepsi = 1.50\n",
        "print (qtde_pepsi * preco_pepi)"
      ],
      "metadata": {
        "colab": {
          "base_uri": "https://localhost:8080/",
          "height": 200
        },
        "id": "6goULBpBS9y5",
        "outputId": "916ebd0a-9c7e-4775-8ab9-e4fd9172bfbb"
      },
      "execution_count": 2,
      "outputs": [
        {
          "output_type": "error",
          "ename": "NameError",
          "evalue": "ignored",
          "traceback": [
            "\u001b[0;31m---------------------------------------------------------------------------\u001b[0m",
            "\u001b[0;31mNameError\u001b[0m                                 Traceback (most recent call last)",
            "\u001b[0;32m<ipython-input-2-4ca4c4a8e27d>\u001b[0m in \u001b[0;36m<module>\u001b[0;34m\u001b[0m\n\u001b[1;32m      1\u001b[0m \u001b[0mqtde_pepsi\u001b[0m \u001b[0;34m=\u001b[0m \u001b[0;36m130\u001b[0m\u001b[0;34m\u001b[0m\u001b[0;34m\u001b[0m\u001b[0m\n\u001b[1;32m      2\u001b[0m \u001b[0mpreco_pepsi\u001b[0m \u001b[0;34m=\u001b[0m \u001b[0;36m1.50\u001b[0m\u001b[0;34m\u001b[0m\u001b[0;34m\u001b[0m\u001b[0m\n\u001b[0;32m----> 3\u001b[0;31m \u001b[0mprint\u001b[0m \u001b[0;34m(\u001b[0m\u001b[0mqtde_pepsi\u001b[0m \u001b[0;34m*\u001b[0m \u001b[0mpreco_pepi\u001b[0m\u001b[0;34m)\u001b[0m\u001b[0;34m\u001b[0m\u001b[0;34m\u001b[0m\u001b[0m\n\u001b[0m",
            "\u001b[0;31mNameError\u001b[0m: name 'preco_pepi' is not defined"
          ]
        }
      ]
    },
    {
      "cell_type": "markdown",
      "source": [
        "7. A regra do Python é que os códigos foram feitos para ser:\n",
        "- Intuitivos e,\n",
        "- Simples"
      ],
      "metadata": {
        "id": "JHvYqF1jTL1P"
      }
    },
    {
      "cell_type": "markdown",
      "source": [
        "# Qual a melhor forma de aprender a programar?"
      ],
      "metadata": {
        "id": "WGl6t3eiOYRd"
      }
    },
    {
      "cell_type": "markdown",
      "source": [
        "## Conhecer as 6 regras de ouro:"
      ],
      "metadata": {
        "id": "fmqBzattTpr3"
      }
    },
    {
      "cell_type": "markdown",
      "source": [
        "1. Errar (e bug) é normal, faz parte do processo;\n",
        "2. Não se frustre com os erros, ache o erro e o resolva;\n",
        "3. Você não precisa sair decorando código;\n",
        "4. Tente se divertir probgramando, você aprende mais (e é mais legal);\n",
        "5. Procurar as coisas por conta própria e testar vai te ajudar MUITO E,\n",
        "6. Lembre-se, estamos aqui para te ajudar."
      ],
      "metadata": {
        "id": "Pec4vGH7Tpnx"
      }
    }
  ]
}